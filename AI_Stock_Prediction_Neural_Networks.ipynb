{
 "cells": [
  {
   "cell_type": "code",
   "execution_count": 52,
   "metadata": {},
   "outputs": [],
   "source": [
    "import keras\n",
    "from keras.callbacks import ModelCheckpoint\n",
    "from keras.callbacks import EarlyStopping\n",
    "from keras.models import Sequential\n",
    "from keras.layers.core import Dense, Activation, Flatten\n",
    "from keras.optimizers import Adam\n",
    "import pandas as pd\n",
    "import io\n",
    "import requests\n",
    "import numpy as np\n",
    "from sklearn import metrics\n",
    "import os\n",
    "import json\n",
    "import csv\n",
    "import pandas as pd\n",
    "import sklearn.feature_extraction.text as tfidf\n",
    "from sklearn.model_selection import train_test_split\n",
    "from sklearn import datasets,linear_model, preprocessing,utils\n",
    "from sklearn.metrics import mean_squared_error,r2_score\n",
    "from scipy.stats import zscore\n",
    "import numpy as np\n",
    "import pickle\n",
    "from sklearn.preprocessing import LabelEncoder\n",
    "from sklearn.neighbors import KNeighborsClassifier\n",
    "from sklearn.naive_bayes import MultinomialNB\n",
    "from sklearn import svm\n",
    "from sklearn.metrics import f1_score\n",
    "import collections\n",
    "from keras import optimizers\n",
    "import matplotlib.pyplot as plt\n",
    "from sklearn.preprocessing import MinMaxScaler\n",
    "from keras.models import Sequential\n",
    "from keras.layers.core import Dense, Activation, Flatten\n",
    "from keras.optimizers import Adam\n",
    "from keras import optimizers\n",
    "from keras.layers import Conv1D, Conv2D, MaxPooling2D"
   ]
  },
  {
   "cell_type": "code",
   "execution_count": 53,
   "metadata": {},
   "outputs": [],
   "source": [
    "# Regression chart.\n",
    "def chart_regression(pred,y,sort=True):\n",
    "    t = pd.DataFrame({'pred' : pred, 'y' : y.flatten()})\n",
    "    if sort:\n",
    "        t.sort_values(by=['y'],inplace=True)\n",
    "    a = plt.plot(t['y'].tolist(),label='expected')\n",
    "    b = plt.plot(t['pred'].tolist(),label='prediction')\n",
    "    plt.ylabel('output')\n",
    "    plt.legend()\n",
    "    plt.show()"
   ]
  },
  {
   "cell_type": "code",
   "execution_count": 54,
   "metadata": {},
   "outputs": [],
   "source": [
    "import numpy as np\n",
    "\n",
    "def to_sequences(seq_size, data,close):\n",
    "    x = []\n",
    "    y = []\n",
    "\n",
    "    for i in range(len(data)-seq_size-1):\n",
    "        window = data[i:(i+seq_size)]\n",
    "        after_window = close[i+seq_size]\n",
    "        window = [[x] for x in window]\n",
    "        x.append(window)\n",
    "        y.append(after_window)\n",
    "        \n",
    "    return np.array(x),np.array(y)"
   ]
  },
  {
   "cell_type": "code",
   "execution_count": 55,
   "metadata": {},
   "outputs": [],
   "source": [
    "# Convert a Pandas dataframe to the x,y inputs that TensorFlow needs\n",
    "def to_xy(df, target):\n",
    "    result = []\n",
    "    for x in df.columns:\n",
    "        if x != target:\n",
    "            result.append(x)\n",
    "    # find out the type of the target column. \n",
    "    target_type = df[target].dtypes\n",
    "    target_type = target_type[0] if isinstance(target_type, collections.Sequence) else target_type\n",
    "    # Encode to int for classification, float otherwise. TensorFlow likes 32 bits.\n",
    "    if target_type in (np.int64, np.int32):\n",
    "        # Classification\n",
    "        dummies = pd.get_dummies(df[target])\n",
    "        return df[result].values.astype(np.float32), dummies.values.astype(np.float32)\n",
    "    else:\n",
    "        # Regression\n",
    "        return df[result].values.astype(np.float32), df[target].values.astype(np.float32)\n"
   ]
  },
  {
   "cell_type": "code",
   "execution_count": 56,
   "metadata": {},
   "outputs": [],
   "source": [
    "import pandas as pd\n",
    "from scipy.stats import zscore\n",
    "from sklearn.model_selection import train_test_split\n",
    "import tensorflow as tf\n",
    "import numpy as np\n",
    "import keras"
   ]
  },
  {
   "cell_type": "code",
   "execution_count": 57,
   "metadata": {},
   "outputs": [],
   "source": [
    "df = pd.read_csv(\"Stock_Price_MAX.csv\")"
   ]
  },
  {
   "cell_type": "code",
   "execution_count": 58,
   "metadata": {},
   "outputs": [
    {
     "data": {
      "text/html": [
       "<div>\n",
       "<style scoped>\n",
       "    .dataframe tbody tr th:only-of-type {\n",
       "        vertical-align: middle;\n",
       "    }\n",
       "\n",
       "    .dataframe tbody tr th {\n",
       "        vertical-align: top;\n",
       "    }\n",
       "\n",
       "    .dataframe thead th {\n",
       "        text-align: right;\n",
       "    }\n",
       "</style>\n",
       "<table border=\"1\" class=\"dataframe\">\n",
       "  <thead>\n",
       "    <tr style=\"text-align: right;\">\n",
       "      <th></th>\n",
       "      <th>Date</th>\n",
       "      <th>Open</th>\n",
       "      <th>High</th>\n",
       "      <th>Low</th>\n",
       "      <th>Close</th>\n",
       "      <th>Adj_Close</th>\n",
       "      <th>Volume</th>\n",
       "    </tr>\n",
       "  </thead>\n",
       "  <tbody>\n",
       "    <tr>\n",
       "      <th>0</th>\n",
       "      <td>2000/3/27</td>\n",
       "      <td>3.812500</td>\n",
       "      <td>4.156250</td>\n",
       "      <td>3.812500</td>\n",
       "      <td>4.125000</td>\n",
       "      <td>4.125000</td>\n",
       "      <td>3675600</td>\n",
       "    </tr>\n",
       "    <tr>\n",
       "      <th>1</th>\n",
       "      <td>2000/3/28</td>\n",
       "      <td>4.125000</td>\n",
       "      <td>4.125000</td>\n",
       "      <td>4.000000</td>\n",
       "      <td>4.015625</td>\n",
       "      <td>4.015625</td>\n",
       "      <td>1077600</td>\n",
       "    </tr>\n",
       "    <tr>\n",
       "      <th>2</th>\n",
       "      <td>2000/3/29</td>\n",
       "      <td>4.000000</td>\n",
       "      <td>4.031250</td>\n",
       "      <td>3.953125</td>\n",
       "      <td>4.000000</td>\n",
       "      <td>4.000000</td>\n",
       "      <td>437200</td>\n",
       "    </tr>\n",
       "    <tr>\n",
       "      <th>3</th>\n",
       "      <td>2000/3/30</td>\n",
       "      <td>4.000000</td>\n",
       "      <td>4.000000</td>\n",
       "      <td>3.843750</td>\n",
       "      <td>3.843750</td>\n",
       "      <td>3.843750</td>\n",
       "      <td>1883600</td>\n",
       "    </tr>\n",
       "    <tr>\n",
       "      <th>4</th>\n",
       "      <td>2000/3/31</td>\n",
       "      <td>3.734375</td>\n",
       "      <td>3.734375</td>\n",
       "      <td>3.390625</td>\n",
       "      <td>3.390625</td>\n",
       "      <td>3.390625</td>\n",
       "      <td>7931600</td>\n",
       "    </tr>\n",
       "  </tbody>\n",
       "</table>\n",
       "</div>"
      ],
      "text/plain": [
       "        Date      Open      High       Low     Close  Adj_Close   Volume\n",
       "0  2000/3/27  3.812500  4.156250  3.812500  4.125000   4.125000  3675600\n",
       "1  2000/3/28  4.125000  4.125000  4.000000  4.015625   4.015625  1077600\n",
       "2  2000/3/29  4.000000  4.031250  3.953125  4.000000   4.000000   437200\n",
       "3  2000/3/30  4.000000  4.000000  3.843750  3.843750   3.843750  1883600\n",
       "4  2000/3/31  3.734375  3.734375  3.390625  3.390625   3.390625  7931600"
      ]
     },
     "execution_count": 58,
     "metadata": {},
     "output_type": "execute_result"
    }
   ],
   "source": [
    "df.head()"
   ]
  },
  {
   "cell_type": "code",
   "execution_count": 59,
   "metadata": {},
   "outputs": [],
   "source": [
    "df.drop('Date', axis=1, inplace=True)"
   ]
  },
  {
   "cell_type": "code",
   "execution_count": 60,
   "metadata": {},
   "outputs": [],
   "source": [
    "df.drop('Adj_Close', axis=1, inplace=True)"
   ]
  },
  {
   "cell_type": "code",
   "execution_count": 61,
   "metadata": {},
   "outputs": [
    {
     "data": {
      "text/html": [
       "<div>\n",
       "<style scoped>\n",
       "    .dataframe tbody tr th:only-of-type {\n",
       "        vertical-align: middle;\n",
       "    }\n",
       "\n",
       "    .dataframe tbody tr th {\n",
       "        vertical-align: top;\n",
       "    }\n",
       "\n",
       "    .dataframe thead th {\n",
       "        text-align: right;\n",
       "    }\n",
       "</style>\n",
       "<table border=\"1\" class=\"dataframe\">\n",
       "  <thead>\n",
       "    <tr style=\"text-align: right;\">\n",
       "      <th></th>\n",
       "      <th>Open</th>\n",
       "      <th>High</th>\n",
       "      <th>Low</th>\n",
       "      <th>Close</th>\n",
       "      <th>Volume</th>\n",
       "    </tr>\n",
       "  </thead>\n",
       "  <tbody>\n",
       "    <tr>\n",
       "      <th>0</th>\n",
       "      <td>3.812500</td>\n",
       "      <td>4.156250</td>\n",
       "      <td>3.812500</td>\n",
       "      <td>4.125000</td>\n",
       "      <td>3675600</td>\n",
       "    </tr>\n",
       "    <tr>\n",
       "      <th>1</th>\n",
       "      <td>4.125000</td>\n",
       "      <td>4.125000</td>\n",
       "      <td>4.000000</td>\n",
       "      <td>4.015625</td>\n",
       "      <td>1077600</td>\n",
       "    </tr>\n",
       "    <tr>\n",
       "      <th>2</th>\n",
       "      <td>4.000000</td>\n",
       "      <td>4.031250</td>\n",
       "      <td>3.953125</td>\n",
       "      <td>4.000000</td>\n",
       "      <td>437200</td>\n",
       "    </tr>\n",
       "    <tr>\n",
       "      <th>3</th>\n",
       "      <td>4.000000</td>\n",
       "      <td>4.000000</td>\n",
       "      <td>3.843750</td>\n",
       "      <td>3.843750</td>\n",
       "      <td>1883600</td>\n",
       "    </tr>\n",
       "    <tr>\n",
       "      <th>4</th>\n",
       "      <td>3.734375</td>\n",
       "      <td>3.734375</td>\n",
       "      <td>3.390625</td>\n",
       "      <td>3.390625</td>\n",
       "      <td>7931600</td>\n",
       "    </tr>\n",
       "  </tbody>\n",
       "</table>\n",
       "</div>"
      ],
      "text/plain": [
       "       Open      High       Low     Close   Volume\n",
       "0  3.812500  4.156250  3.812500  4.125000  3675600\n",
       "1  4.125000  4.125000  4.000000  4.015625  1077600\n",
       "2  4.000000  4.031250  3.953125  4.000000   437200\n",
       "3  4.000000  4.000000  3.843750  3.843750  1883600\n",
       "4  3.734375  3.734375  3.390625  3.390625  7931600"
      ]
     },
     "execution_count": 61,
     "metadata": {},
     "output_type": "execute_result"
    }
   ],
   "source": [
    "df.head()"
   ]
  },
  {
   "cell_type": "code",
   "execution_count": 62,
   "metadata": {},
   "outputs": [],
   "source": [
    "df_close = df['Close']"
   ]
  },
  {
   "cell_type": "code",
   "execution_count": 63,
   "metadata": {},
   "outputs": [],
   "source": [
    "#ZScore for Numeric columns\n",
    "def Z_score(column):\n",
    "    df[column] = zscore(df[column])"
   ]
  },
  {
   "cell_type": "code",
   "execution_count": 64,
   "metadata": {},
   "outputs": [],
   "source": [
    "num_col_zscore = ['Open','High','Low','Close','Volume']\n",
    "for i in num_col_zscore:\n",
    "    Z_score(i)"
   ]
  },
  {
   "cell_type": "code",
   "execution_count": 65,
   "metadata": {},
   "outputs": [
    {
     "data": {
      "text/html": [
       "<div>\n",
       "<style scoped>\n",
       "    .dataframe tbody tr th:only-of-type {\n",
       "        vertical-align: middle;\n",
       "    }\n",
       "\n",
       "    .dataframe tbody tr th {\n",
       "        vertical-align: top;\n",
       "    }\n",
       "\n",
       "    .dataframe thead th {\n",
       "        text-align: right;\n",
       "    }\n",
       "</style>\n",
       "<table border=\"1\" class=\"dataframe\">\n",
       "  <thead>\n",
       "    <tr style=\"text-align: right;\">\n",
       "      <th></th>\n",
       "      <th>Open</th>\n",
       "      <th>High</th>\n",
       "      <th>Low</th>\n",
       "      <th>Close</th>\n",
       "      <th>Volume</th>\n",
       "    </tr>\n",
       "  </thead>\n",
       "  <tbody>\n",
       "    <tr>\n",
       "      <th>0</th>\n",
       "      <td>-0.894311</td>\n",
       "      <td>-0.885122</td>\n",
       "      <td>-0.892408</td>\n",
       "      <td>-0.884464</td>\n",
       "      <td>1.104938</td>\n",
       "    </tr>\n",
       "    <tr>\n",
       "      <th>1</th>\n",
       "      <td>-0.883863</td>\n",
       "      <td>-0.886157</td>\n",
       "      <td>-0.886076</td>\n",
       "      <td>-0.888122</td>\n",
       "      <td>-0.497357</td>\n",
       "    </tr>\n",
       "    <tr>\n",
       "      <th>2</th>\n",
       "      <td>-0.888042</td>\n",
       "      <td>-0.889261</td>\n",
       "      <td>-0.887659</td>\n",
       "      <td>-0.888645</td>\n",
       "      <td>-0.892319</td>\n",
       "    </tr>\n",
       "    <tr>\n",
       "      <th>3</th>\n",
       "      <td>-0.888042</td>\n",
       "      <td>-0.890295</td>\n",
       "      <td>-0.891353</td>\n",
       "      <td>-0.893870</td>\n",
       "      <td>-0.000263</td>\n",
       "    </tr>\n",
       "    <tr>\n",
       "      <th>4</th>\n",
       "      <td>-0.896922</td>\n",
       "      <td>-0.899088</td>\n",
       "      <td>-0.906655</td>\n",
       "      <td>-0.909023</td>\n",
       "      <td>3.729791</td>\n",
       "    </tr>\n",
       "  </tbody>\n",
       "</table>\n",
       "</div>"
      ],
      "text/plain": [
       "       Open      High       Low     Close    Volume\n",
       "0 -0.894311 -0.885122 -0.892408 -0.884464  1.104938\n",
       "1 -0.883863 -0.886157 -0.886076 -0.888122 -0.497357\n",
       "2 -0.888042 -0.889261 -0.887659 -0.888645 -0.892319\n",
       "3 -0.888042 -0.890295 -0.891353 -0.893870 -0.000263\n",
       "4 -0.896922 -0.899088 -0.906655 -0.909023  3.729791"
      ]
     },
     "execution_count": 65,
     "metadata": {},
     "output_type": "execute_result"
    }
   ],
   "source": [
    "df.head()"
   ]
  },
  {
   "cell_type": "code",
   "execution_count": 66,
   "metadata": {},
   "outputs": [],
   "source": [
    "output_array = df_close.values\n",
    "\n",
    "input_df = df\n",
    "input_array = input_df.values"
   ]
  },
  {
   "cell_type": "code",
   "execution_count": 67,
   "metadata": {},
   "outputs": [],
   "source": [
    "x_train,x_test,y_train,y_test = train_test_split(input_array,output_array,test_size=0.3,shuffle=False)"
   ]
  },
  {
   "cell_type": "code",
   "execution_count": 68,
   "metadata": {},
   "outputs": [
    {
     "name": "stdout",
     "output_type": "stream",
     "text": [
      "Train on 3074 samples, validate on 1318 samples\n",
      "Epoch 1/10\n",
      " - 2s - loss: 0.4150 - val_loss: 2.3696\n",
      "Epoch 2/10\n",
      " - 0s - loss: 0.4128 - val_loss: 2.3696\n",
      "Epoch 3/10\n",
      " - 0s - loss: 0.4128 - val_loss: 2.3696\n",
      "Epoch 00003: early stopping\n",
      "Train on 3074 samples, validate on 1318 samples\n",
      "Epoch 1/10\n",
      " - 1s - loss: 0.4118 - val_loss: 7.9585e-04\n",
      "Epoch 2/10\n",
      " - 0s - loss: 0.4001 - val_loss: 9.3948e-04\n",
      "Epoch 3/10\n",
      " - 0s - loss: 0.4002 - val_loss: 8.5752e-04\n",
      "Epoch 00003: early stopping\n",
      "Train on 3074 samples, validate on 1318 samples\n",
      "Epoch 1/10\n",
      " - 1s - loss: 0.4008 - val_loss: 0.0635\n",
      "Epoch 2/10\n",
      " - 0s - loss: 0.4001 - val_loss: 0.0369\n",
      "Epoch 3/10\n",
      " - 0s - loss: 0.4001 - val_loss: 0.0409\n",
      "Epoch 4/10\n",
      " - 0s - loss: 0.4005 - val_loss: 0.0339\n",
      "Epoch 5/10\n",
      " - 0s - loss: 0.4001 - val_loss: 0.0296\n",
      "Epoch 6/10\n",
      " - 0s - loss: 0.4001 - val_loss: 0.0311\n",
      "Epoch 7/10\n",
      " - 0s - loss: 0.4001 - val_loss: 0.0270\n",
      "Epoch 8/10\n",
      " - 0s - loss: 0.4001 - val_loss: 0.0290\n",
      "Epoch 9/10\n",
      " - 0s - loss: 0.4001 - val_loss: 0.0300\n",
      "Epoch 00009: early stopping\n",
      "Train on 3074 samples, validate on 1318 samples\n",
      "Epoch 1/10\n",
      " - 1s - loss: 0.4011 - val_loss: 0.0554\n",
      "Epoch 2/10\n",
      " - 0s - loss: 0.4001 - val_loss: 0.0289\n",
      "Epoch 3/10\n",
      " - 0s - loss: 0.4001 - val_loss: 0.0128\n",
      "Epoch 4/10\n",
      " - 0s - loss: 0.4001 - val_loss: 0.0052\n",
      "Epoch 5/10\n",
      " - 0s - loss: 0.4003 - val_loss: 0.0067\n",
      "Epoch 6/10\n",
      " - 0s - loss: 0.4001 - val_loss: 0.0050\n",
      "Epoch 00006: early stopping\n",
      "Train on 3074 samples, validate on 1318 samples\n",
      "Epoch 1/10\n",
      " - 2s - loss: 0.4006 - val_loss: 0.0494\n",
      "Epoch 2/10\n",
      " - 0s - loss: 0.4002 - val_loss: 0.0250\n",
      "Epoch 3/10\n",
      " - 0s - loss: 0.4001 - val_loss: 0.0163\n",
      "Epoch 4/10\n",
      " - 0s - loss: 0.4002 - val_loss: 0.0154\n",
      "Epoch 5/10\n",
      " - 0s - loss: 0.4001 - val_loss: 0.0125\n",
      "Epoch 6/10\n",
      " - 0s - loss: 0.4001 - val_loss: 0.0074\n",
      "Epoch 7/10\n",
      " - 0s - loss: 0.4001 - val_loss: 0.0088\n",
      "Epoch 8/10\n",
      " - 0s - loss: 0.4001 - val_loss: 0.0073\n",
      "Epoch 00008: early stopping\n"
     ]
    }
   ],
   "source": [
    "for i in range(5):\n",
    "    model = Sequential()\n",
    "    model.add(Dense(25, input_dim=input_array.shape[1], activation='relu'))\n",
    "    model.add(Dense(10,activation='relu'))\n",
    "    model.add(Dense(1,activation='relu'))\n",
    "\n",
    "    # show not only log loss but also accuracy for each epoch using metrics=['accuracy']\n",
    "    adam = optimizers.Adam(lr=0.001, beta_1=0.9, beta_2=0.999, epsilon=None, decay=0.0, amsgrad=False)\n",
    "    model.compile(loss='mean_squared_error', optimizer='adagrad')\n",
    "    checkpointer = ModelCheckpoint(filepath=\"best_weights_reg.hdf5\", verbose=0, save_best_only=True) # save best model\n",
    "    monitor = EarlyStopping(monitor='val_loss', min_delta=1e-3, patience=2, verbose=2, mode='auto') \n",
    "    model.fit(x_train, y_train,validation_data=(x_test,y_test),callbacks=[monitor,checkpointer],verbose=2,epochs=10)"
   ]
  },
  {
   "cell_type": "code",
   "execution_count": 69,
   "metadata": {},
   "outputs": [],
   "source": [
    "model.load_weights('best_weights_reg.hdf5') # load weights from best model"
   ]
  },
  {
   "cell_type": "code",
   "execution_count": 70,
   "metadata": {},
   "outputs": [
    {
     "name": "stdout",
     "output_type": "stream",
     "text": [
      "Shape: (1318, 1)\n",
      "(1318, 1)\n"
     ]
    }
   ],
   "source": [
    "pred = model.predict(x_test)\n",
    "print(\"Shape: {}\".format(pred.shape))\n",
    "print(pred.shape)"
   ]
  },
  {
   "cell_type": "code",
   "execution_count": 71,
   "metadata": {},
   "outputs": [
    {
     "name": "stdout",
     "output_type": "stream",
     "text": [
      "Final score (RMSE): 0.08528186409404548\n"
     ]
    }
   ],
   "source": [
    "# Measure RMSE error.  RMSE is common for regression.\n",
    "score = np.sqrt(metrics.mean_squared_error(pred,y_test))\n",
    "print(\"Final score (RMSE): {}\".format(score))"
   ]
  },
  {
   "cell_type": "code",
   "execution_count": 72,
   "metadata": {},
   "outputs": [
    {
     "name": "stdout",
     "output_type": "stream",
     "text": [
      "Evaluating with R2 score metric: 0.99\n"
     ]
    }
   ],
   "source": [
    "# Check This once again\n",
    "print('Evaluating with R2 score metric: %.2f' % r2_score(y_test,pred))"
   ]
  },
  {
   "cell_type": "code",
   "execution_count": 73,
   "metadata": {},
   "outputs": [
    {
     "data": {
      "image/png": "[encoded data removed]",
      "text/plain": [
       "<Figure size 432x288 with 1 Axes>"
      ]
     },
     "metadata": {},
     "output_type": "display_data"
    }
   ],
   "source": [
    "chart_regression(pred.flatten(),y_test,sort=True)"
   ]
  },
  {
   "cell_type": "markdown",
   "metadata": {},
   "source": [
    "# LSTM Model"
   ]
  },
  {
   "cell_type": "code",
   "execution_count": 133,
   "metadata": {},
   "outputs": [],
   "source": [
    "LSTM_df = pd.read_csv(\"Stock_Price_MAX.csv\")"
   ]
  },
  {
   "cell_type": "code",
   "execution_count": 135,
   "metadata": {},
   "outputs": [
    {
     "data": {
      "text/html": [
       "<div>\n",
       "<style scoped>\n",
       "    .dataframe tbody tr th:only-of-type {\n",
       "        vertical-align: middle;\n",
       "    }\n",
       "\n",
       "    .dataframe tbody tr th {\n",
       "        vertical-align: top;\n",
       "    }\n",
       "\n",
       "    .dataframe thead th {\n",
       "        text-align: right;\n",
       "    }\n",
       "</style>\n",
       "<table border=\"1\" class=\"dataframe\">\n",
       "  <thead>\n",
       "    <tr style=\"text-align: right;\">\n",
       "      <th></th>\n",
       "      <th>Date</th>\n",
       "      <th>Open</th>\n",
       "      <th>High</th>\n",
       "      <th>Low</th>\n",
       "      <th>Close</th>\n",
       "      <th>Adj_Close</th>\n",
       "      <th>Volume</th>\n",
       "    </tr>\n",
       "  </thead>\n",
       "  <tbody>\n",
       "    <tr>\n",
       "      <th>0</th>\n",
       "      <td>2000/3/27</td>\n",
       "      <td>3.812500</td>\n",
       "      <td>4.156250</td>\n",
       "      <td>3.812500</td>\n",
       "      <td>4.125000</td>\n",
       "      <td>4.125000</td>\n",
       "      <td>3675600</td>\n",
       "    </tr>\n",
       "    <tr>\n",
       "      <th>1</th>\n",
       "      <td>2000/3/28</td>\n",
       "      <td>4.125000</td>\n",
       "      <td>4.125000</td>\n",
       "      <td>4.000000</td>\n",
       "      <td>4.015625</td>\n",
       "      <td>4.015625</td>\n",
       "      <td>1077600</td>\n",
       "    </tr>\n",
       "    <tr>\n",
       "      <th>2</th>\n",
       "      <td>2000/3/29</td>\n",
       "      <td>4.000000</td>\n",
       "      <td>4.031250</td>\n",
       "      <td>3.953125</td>\n",
       "      <td>4.000000</td>\n",
       "      <td>4.000000</td>\n",
       "      <td>437200</td>\n",
       "    </tr>\n",
       "    <tr>\n",
       "      <th>3</th>\n",
       "      <td>2000/3/30</td>\n",
       "      <td>4.000000</td>\n",
       "      <td>4.000000</td>\n",
       "      <td>3.843750</td>\n",
       "      <td>3.843750</td>\n",
       "      <td>3.843750</td>\n",
       "      <td>1883600</td>\n",
       "    </tr>\n",
       "    <tr>\n",
       "      <th>4</th>\n",
       "      <td>2000/3/31</td>\n",
       "      <td>3.734375</td>\n",
       "      <td>3.734375</td>\n",
       "      <td>3.390625</td>\n",
       "      <td>3.390625</td>\n",
       "      <td>3.390625</td>\n",
       "      <td>7931600</td>\n",
       "    </tr>\n",
       "  </tbody>\n",
       "</table>\n",
       "</div>"
      ],
      "text/plain": [
       "        Date      Open      High       Low     Close  Adj_Close   Volume\n",
       "0  2000/3/27  3.812500  4.156250  3.812500  4.125000   4.125000  3675600\n",
       "1  2000/3/28  4.125000  4.125000  4.000000  4.015625   4.015625  1077600\n",
       "2  2000/3/29  4.000000  4.031250  3.953125  4.000000   4.000000   437200\n",
       "3  2000/3/30  4.000000  4.000000  3.843750  3.843750   3.843750  1883600\n",
       "4  2000/3/31  3.734375  3.734375  3.390625  3.390625   3.390625  7931600"
      ]
     },
     "execution_count": 135,
     "metadata": {},
     "output_type": "execute_result"
    }
   ],
   "source": [
    "LSTM_df.head()"
   ]
  },
  {
   "cell_type": "code",
   "execution_count": 136,
   "metadata": {},
   "outputs": [
    {
     "data": {
      "text/plain": [
       "(4392, 7)"
      ]
     },
     "execution_count": 136,
     "metadata": {},
     "output_type": "execute_result"
    }
   ],
   "source": [
    "LSTM_df.shape"
   ]
  },
  {
   "cell_type": "code",
   "execution_count": 137,
   "metadata": {},
   "outputs": [],
   "source": [
    "LSTM_df = LSTM_df.drop(['Date'], axis=1)"
   ]
  },
  {
   "cell_type": "code",
   "execution_count": 138,
   "metadata": {},
   "outputs": [],
   "source": [
    "LSTM_df = LSTM_df.drop(['Adj_Close'], axis=1)"
   ]
  },
  {
   "cell_type": "code",
   "execution_count": 139,
   "metadata": {},
   "outputs": [
    {
     "data": {
      "text/plain": [
       "(4392, 5)"
      ]
     },
     "execution_count": 139,
     "metadata": {},
     "output_type": "execute_result"
    }
   ],
   "source": [
    "LSTM_df.shape"
   ]
  },
  {
   "cell_type": "code",
   "execution_count": 140,
   "metadata": {},
   "outputs": [],
   "source": [
    "close_df = LSTM_df['Close']"
   ]
  },
  {
   "cell_type": "code",
   "execution_count": 141,
   "metadata": {},
   "outputs": [
    {
     "data": {
      "text/html": [
       "<div>\n",
       "<style scoped>\n",
       "    .dataframe tbody tr th:only-of-type {\n",
       "        vertical-align: middle;\n",
       "    }\n",
       "\n",
       "    .dataframe tbody tr th {\n",
       "        vertical-align: top;\n",
       "    }\n",
       "\n",
       "    .dataframe thead th {\n",
       "        text-align: right;\n",
       "    }\n",
       "</style>\n",
       "<table border=\"1\" class=\"dataframe\">\n",
       "  <thead>\n",
       "    <tr style=\"text-align: right;\">\n",
       "      <th></th>\n",
       "      <th>Open</th>\n",
       "      <th>High</th>\n",
       "      <th>Low</th>\n",
       "      <th>Close</th>\n",
       "      <th>Volume</th>\n",
       "    </tr>\n",
       "  </thead>\n",
       "  <tbody>\n",
       "    <tr>\n",
       "      <th>0</th>\n",
       "      <td>3.812500</td>\n",
       "      <td>4.156250</td>\n",
       "      <td>3.812500</td>\n",
       "      <td>4.125000</td>\n",
       "      <td>3675600</td>\n",
       "    </tr>\n",
       "    <tr>\n",
       "      <th>1</th>\n",
       "      <td>4.125000</td>\n",
       "      <td>4.125000</td>\n",
       "      <td>4.000000</td>\n",
       "      <td>4.015625</td>\n",
       "      <td>1077600</td>\n",
       "    </tr>\n",
       "    <tr>\n",
       "      <th>2</th>\n",
       "      <td>4.000000</td>\n",
       "      <td>4.031250</td>\n",
       "      <td>3.953125</td>\n",
       "      <td>4.000000</td>\n",
       "      <td>437200</td>\n",
       "    </tr>\n",
       "    <tr>\n",
       "      <th>3</th>\n",
       "      <td>4.000000</td>\n",
       "      <td>4.000000</td>\n",
       "      <td>3.843750</td>\n",
       "      <td>3.843750</td>\n",
       "      <td>1883600</td>\n",
       "    </tr>\n",
       "    <tr>\n",
       "      <th>4</th>\n",
       "      <td>3.734375</td>\n",
       "      <td>3.734375</td>\n",
       "      <td>3.390625</td>\n",
       "      <td>3.390625</td>\n",
       "      <td>7931600</td>\n",
       "    </tr>\n",
       "    <tr>\n",
       "      <th>5</th>\n",
       "      <td>3.500000</td>\n",
       "      <td>3.703125</td>\n",
       "      <td>3.437500</td>\n",
       "      <td>3.437500</td>\n",
       "      <td>11486800</td>\n",
       "    </tr>\n",
       "    <tr>\n",
       "      <th>6</th>\n",
       "      <td>3.531250</td>\n",
       "      <td>3.578125</td>\n",
       "      <td>3.093750</td>\n",
       "      <td>3.500000</td>\n",
       "      <td>13136800</td>\n",
       "    </tr>\n",
       "    <tr>\n",
       "      <th>7</th>\n",
       "      <td>3.468750</td>\n",
       "      <td>3.562500</td>\n",
       "      <td>3.453125</td>\n",
       "      <td>3.484375</td>\n",
       "      <td>6349600</td>\n",
       "    </tr>\n",
       "    <tr>\n",
       "      <th>8</th>\n",
       "      <td>3.500000</td>\n",
       "      <td>3.593750</td>\n",
       "      <td>3.468750</td>\n",
       "      <td>3.578125</td>\n",
       "      <td>7181200</td>\n",
       "    </tr>\n",
       "    <tr>\n",
       "      <th>9</th>\n",
       "      <td>3.593750</td>\n",
       "      <td>3.812500</td>\n",
       "      <td>3.593750</td>\n",
       "      <td>3.609375</td>\n",
       "      <td>13904800</td>\n",
       "    </tr>\n",
       "    <tr>\n",
       "      <th>10</th>\n",
       "      <td>3.687500</td>\n",
       "      <td>3.750000</td>\n",
       "      <td>3.625000</td>\n",
       "      <td>3.640625</td>\n",
       "      <td>5280800</td>\n",
       "    </tr>\n",
       "    <tr>\n",
       "      <th>11</th>\n",
       "      <td>3.578125</td>\n",
       "      <td>3.656250</td>\n",
       "      <td>3.562500</td>\n",
       "      <td>3.578125</td>\n",
       "      <td>6590000</td>\n",
       "    </tr>\n",
       "    <tr>\n",
       "      <th>12</th>\n",
       "      <td>3.546875</td>\n",
       "      <td>3.640625</td>\n",
       "      <td>3.531250</td>\n",
       "      <td>3.578125</td>\n",
       "      <td>8546400</td>\n",
       "    </tr>\n",
       "    <tr>\n",
       "      <th>13</th>\n",
       "      <td>3.578125</td>\n",
       "      <td>3.656250</td>\n",
       "      <td>3.578125</td>\n",
       "      <td>3.613275</td>\n",
       "      <td>6874400</td>\n",
       "    </tr>\n",
       "    <tr>\n",
       "      <th>14</th>\n",
       "      <td>3.609375</td>\n",
       "      <td>3.625000</td>\n",
       "      <td>3.531250</td>\n",
       "      <td>3.609375</td>\n",
       "      <td>2626000</td>\n",
       "    </tr>\n",
       "    <tr>\n",
       "      <th>15</th>\n",
       "      <td>3.578125</td>\n",
       "      <td>3.609375</td>\n",
       "      <td>3.515625</td>\n",
       "      <td>3.562500</td>\n",
       "      <td>2992000</td>\n",
       "    </tr>\n",
       "    <tr>\n",
       "      <th>16</th>\n",
       "      <td>3.609375</td>\n",
       "      <td>3.625000</td>\n",
       "      <td>3.484375</td>\n",
       "      <td>3.515625</td>\n",
       "      <td>2896000</td>\n",
       "    </tr>\n",
       "    <tr>\n",
       "      <th>17</th>\n",
       "      <td>3.562500</td>\n",
       "      <td>3.656250</td>\n",
       "      <td>3.562500</td>\n",
       "      <td>3.593750</td>\n",
       "      <td>4662400</td>\n",
       "    </tr>\n",
       "    <tr>\n",
       "      <th>18</th>\n",
       "      <td>3.578125</td>\n",
       "      <td>3.687500</td>\n",
       "      <td>3.562500</td>\n",
       "      <td>3.656250</td>\n",
       "      <td>4558800</td>\n",
       "    </tr>\n",
       "    <tr>\n",
       "      <th>19</th>\n",
       "      <td>3.593750</td>\n",
       "      <td>3.656250</td>\n",
       "      <td>3.531250</td>\n",
       "      <td>3.562500</td>\n",
       "      <td>3815200</td>\n",
       "    </tr>\n",
       "    <tr>\n",
       "      <th>20</th>\n",
       "      <td>3.578125</td>\n",
       "      <td>3.781250</td>\n",
       "      <td>3.468750</td>\n",
       "      <td>3.765625</td>\n",
       "      <td>4635600</td>\n",
       "    </tr>\n",
       "    <tr>\n",
       "      <th>21</th>\n",
       "      <td>3.781250</td>\n",
       "      <td>4.125000</td>\n",
       "      <td>3.750000</td>\n",
       "      <td>3.828125</td>\n",
       "      <td>5321200</td>\n",
       "    </tr>\n",
       "    <tr>\n",
       "      <th>22</th>\n",
       "      <td>3.765625</td>\n",
       "      <td>3.765625</td>\n",
       "      <td>3.640625</td>\n",
       "      <td>3.703125</td>\n",
       "      <td>4085200</td>\n",
       "    </tr>\n",
       "    <tr>\n",
       "      <th>23</th>\n",
       "      <td>3.687500</td>\n",
       "      <td>3.750000</td>\n",
       "      <td>3.625000</td>\n",
       "      <td>3.750000</td>\n",
       "      <td>3539200</td>\n",
       "    </tr>\n",
       "    <tr>\n",
       "      <th>24</th>\n",
       "      <td>3.750000</td>\n",
       "      <td>3.750000</td>\n",
       "      <td>3.609375</td>\n",
       "      <td>3.687500</td>\n",
       "      <td>4310000</td>\n",
       "    </tr>\n",
       "    <tr>\n",
       "      <th>25</th>\n",
       "      <td>3.656250</td>\n",
       "      <td>3.687500</td>\n",
       "      <td>3.609375</td>\n",
       "      <td>3.640625</td>\n",
       "      <td>2684400</td>\n",
       "    </tr>\n",
       "    <tr>\n",
       "      <th>26</th>\n",
       "      <td>3.546875</td>\n",
       "      <td>3.640625</td>\n",
       "      <td>3.515625</td>\n",
       "      <td>3.562500</td>\n",
       "      <td>4164400</td>\n",
       "    </tr>\n",
       "    <tr>\n",
       "      <th>27</th>\n",
       "      <td>3.593750</td>\n",
       "      <td>3.687500</td>\n",
       "      <td>3.562500</td>\n",
       "      <td>3.687500</td>\n",
       "      <td>3610400</td>\n",
       "    </tr>\n",
       "    <tr>\n",
       "      <th>28</th>\n",
       "      <td>3.718750</td>\n",
       "      <td>3.843750</td>\n",
       "      <td>3.718750</td>\n",
       "      <td>3.781250</td>\n",
       "      <td>1710800</td>\n",
       "    </tr>\n",
       "    <tr>\n",
       "      <th>29</th>\n",
       "      <td>3.843750</td>\n",
       "      <td>3.906250</td>\n",
       "      <td>3.796875</td>\n",
       "      <td>3.812500</td>\n",
       "      <td>1435600</td>\n",
       "    </tr>\n",
       "    <tr>\n",
       "      <th>...</th>\n",
       "      <td>...</td>\n",
       "      <td>...</td>\n",
       "      <td>...</td>\n",
       "      <td>...</td>\n",
       "      <td>...</td>\n",
       "    </tr>\n",
       "    <tr>\n",
       "      <th>4362</th>\n",
       "      <td>115.949997</td>\n",
       "      <td>116.190002</td>\n",
       "      <td>113.360001</td>\n",
       "      <td>115.510002</td>\n",
       "      <td>2185100</td>\n",
       "    </tr>\n",
       "    <tr>\n",
       "      <th>4363</th>\n",
       "      <td>115.779999</td>\n",
       "      <td>115.870003</td>\n",
       "      <td>114.080002</td>\n",
       "      <td>115.180000</td>\n",
       "      <td>1467900</td>\n",
       "    </tr>\n",
       "    <tr>\n",
       "      <th>4364</th>\n",
       "      <td>115.870003</td>\n",
       "      <td>116.220001</td>\n",
       "      <td>115.110001</td>\n",
       "      <td>115.269997</td>\n",
       "      <td>1297200</td>\n",
       "    </tr>\n",
       "    <tr>\n",
       "      <th>4365</th>\n",
       "      <td>115.260002</td>\n",
       "      <td>115.480003</td>\n",
       "      <td>112.870003</td>\n",
       "      <td>114.239998</td>\n",
       "      <td>1249500</td>\n",
       "    </tr>\n",
       "    <tr>\n",
       "      <th>4366</th>\n",
       "      <td>114.250000</td>\n",
       "      <td>116.800003</td>\n",
       "      <td>113.760002</td>\n",
       "      <td>116.449997</td>\n",
       "      <td>1469600</td>\n",
       "    </tr>\n",
       "    <tr>\n",
       "      <th>4367</th>\n",
       "      <td>116.820000</td>\n",
       "      <td>117.000000</td>\n",
       "      <td>115.500000</td>\n",
       "      <td>116.190002</td>\n",
       "      <td>962800</td>\n",
       "    </tr>\n",
       "    <tr>\n",
       "      <th>4368</th>\n",
       "      <td>116.199997</td>\n",
       "      <td>116.739998</td>\n",
       "      <td>115.879997</td>\n",
       "      <td>116.480003</td>\n",
       "      <td>723200</td>\n",
       "    </tr>\n",
       "    <tr>\n",
       "      <th>4369</th>\n",
       "      <td>116.480003</td>\n",
       "      <td>117.290001</td>\n",
       "      <td>115.800003</td>\n",
       "      <td>116.160004</td>\n",
       "      <td>976900</td>\n",
       "    </tr>\n",
       "    <tr>\n",
       "      <th>4370</th>\n",
       "      <td>115.750000</td>\n",
       "      <td>116.500000</td>\n",
       "      <td>115.230003</td>\n",
       "      <td>116.260002</td>\n",
       "      <td>980400</td>\n",
       "    </tr>\n",
       "    <tr>\n",
       "      <th>4371</th>\n",
       "      <td>115.739998</td>\n",
       "      <td>115.919998</td>\n",
       "      <td>113.570000</td>\n",
       "      <td>114.129997</td>\n",
       "      <td>982100</td>\n",
       "    </tr>\n",
       "    <tr>\n",
       "      <th>4372</th>\n",
       "      <td>113.949997</td>\n",
       "      <td>115.660004</td>\n",
       "      <td>113.540001</td>\n",
       "      <td>114.500000</td>\n",
       "      <td>673800</td>\n",
       "    </tr>\n",
       "    <tr>\n",
       "      <th>4373</th>\n",
       "      <td>115.040001</td>\n",
       "      <td>115.940002</td>\n",
       "      <td>114.959999</td>\n",
       "      <td>115.639999</td>\n",
       "      <td>1294500</td>\n",
       "    </tr>\n",
       "    <tr>\n",
       "      <th>4374</th>\n",
       "      <td>115.779999</td>\n",
       "      <td>115.779999</td>\n",
       "      <td>114.690002</td>\n",
       "      <td>114.830002</td>\n",
       "      <td>898400</td>\n",
       "    </tr>\n",
       "    <tr>\n",
       "      <th>4375</th>\n",
       "      <td>115.220001</td>\n",
       "      <td>115.930000</td>\n",
       "      <td>115.000000</td>\n",
       "      <td>115.570000</td>\n",
       "      <td>943600</td>\n",
       "    </tr>\n",
       "    <tr>\n",
       "      <th>4376</th>\n",
       "      <td>115.489998</td>\n",
       "      <td>115.790001</td>\n",
       "      <td>113.360001</td>\n",
       "      <td>113.570000</td>\n",
       "      <td>981500</td>\n",
       "    </tr>\n",
       "    <tr>\n",
       "      <th>4377</th>\n",
       "      <td>113.370003</td>\n",
       "      <td>113.610001</td>\n",
       "      <td>112.339996</td>\n",
       "      <td>113.110001</td>\n",
       "      <td>1134600</td>\n",
       "    </tr>\n",
       "    <tr>\n",
       "      <th>4378</th>\n",
       "      <td>113.150002</td>\n",
       "      <td>114.989998</td>\n",
       "      <td>112.550003</td>\n",
       "      <td>114.220001</td>\n",
       "      <td>1089000</td>\n",
       "    </tr>\n",
       "    <tr>\n",
       "      <th>4379</th>\n",
       "      <td>114.050003</td>\n",
       "      <td>115.089996</td>\n",
       "      <td>113.800003</td>\n",
       "      <td>114.220001</td>\n",
       "      <td>1433200</td>\n",
       "    </tr>\n",
       "    <tr>\n",
       "      <th>4380</th>\n",
       "      <td>114.000000</td>\n",
       "      <td>114.000000</td>\n",
       "      <td>112.470001</td>\n",
       "      <td>112.709999</td>\n",
       "      <td>2074000</td>\n",
       "    </tr>\n",
       "    <tr>\n",
       "      <th>4381</th>\n",
       "      <td>112.769997</td>\n",
       "      <td>113.459999</td>\n",
       "      <td>112.070000</td>\n",
       "      <td>112.750000</td>\n",
       "      <td>1269400</td>\n",
       "    </tr>\n",
       "    <tr>\n",
       "      <th>4382</th>\n",
       "      <td>112.949997</td>\n",
       "      <td>113.400002</td>\n",
       "      <td>111.720001</td>\n",
       "      <td>111.760002</td>\n",
       "      <td>1206400</td>\n",
       "    </tr>\n",
       "    <tr>\n",
       "      <th>4383</th>\n",
       "      <td>112.559998</td>\n",
       "      <td>113.449997</td>\n",
       "      <td>112.470001</td>\n",
       "      <td>113.110001</td>\n",
       "      <td>1050200</td>\n",
       "    </tr>\n",
       "    <tr>\n",
       "      <th>4384</th>\n",
       "      <td>112.320000</td>\n",
       "      <td>113.250000</td>\n",
       "      <td>111.739998</td>\n",
       "      <td>111.830002</td>\n",
       "      <td>1366000</td>\n",
       "    </tr>\n",
       "    <tr>\n",
       "      <th>4385</th>\n",
       "      <td>112.019997</td>\n",
       "      <td>112.989998</td>\n",
       "      <td>111.529999</td>\n",
       "      <td>112.690002</td>\n",
       "      <td>929200</td>\n",
       "    </tr>\n",
       "    <tr>\n",
       "      <th>4386</th>\n",
       "      <td>112.820000</td>\n",
       "      <td>113.790001</td>\n",
       "      <td>112.440002</td>\n",
       "      <td>113.660004</td>\n",
       "      <td>1091400</td>\n",
       "    </tr>\n",
       "    <tr>\n",
       "      <th>4387</th>\n",
       "      <td>113.790001</td>\n",
       "      <td>114.099998</td>\n",
       "      <td>112.790001</td>\n",
       "      <td>113.309998</td>\n",
       "      <td>950000</td>\n",
       "    </tr>\n",
       "    <tr>\n",
       "      <th>4388</th>\n",
       "      <td>112.519997</td>\n",
       "      <td>113.529999</td>\n",
       "      <td>111.160004</td>\n",
       "      <td>111.870003</td>\n",
       "      <td>1805200</td>\n",
       "    </tr>\n",
       "    <tr>\n",
       "      <th>4389</th>\n",
       "      <td>112.029999</td>\n",
       "      <td>112.489998</td>\n",
       "      <td>110.250000</td>\n",
       "      <td>112.230003</td>\n",
       "      <td>2136700</td>\n",
       "    </tr>\n",
       "    <tr>\n",
       "      <th>4390</th>\n",
       "      <td>112.459999</td>\n",
       "      <td>112.900002</td>\n",
       "      <td>112.000000</td>\n",
       "      <td>112.339996</td>\n",
       "      <td>1251600</td>\n",
       "    </tr>\n",
       "    <tr>\n",
       "      <th>4391</th>\n",
       "      <td>112.300003</td>\n",
       "      <td>114.790001</td>\n",
       "      <td>112.010002</td>\n",
       "      <td>113.190002</td>\n",
       "      <td>1611700</td>\n",
       "    </tr>\n",
       "  </tbody>\n",
       "</table>\n",
       "<p>4392 rows × 5 columns</p>\n",
       "</div>"
      ],
      "text/plain": [
       "            Open        High         Low       Close    Volume\n",
       "0       3.812500    4.156250    3.812500    4.125000   3675600\n",
       "1       4.125000    4.125000    4.000000    4.015625   1077600\n",
       "2       4.000000    4.031250    3.953125    4.000000    437200\n",
       "3       4.000000    4.000000    3.843750    3.843750   1883600\n",
       "4       3.734375    3.734375    3.390625    3.390625   7931600\n",
       "5       3.500000    3.703125    3.437500    3.437500  11486800\n",
       "6       3.531250    3.578125    3.093750    3.500000  13136800\n",
       "7       3.468750    3.562500    3.453125    3.484375   6349600\n",
       "8       3.500000    3.593750    3.468750    3.578125   7181200\n",
       "9       3.593750    3.812500    3.593750    3.609375  13904800\n",
       "10      3.687500    3.750000    3.625000    3.640625   5280800\n",
       "11      3.578125    3.656250    3.562500    3.578125   6590000\n",
       "12      3.546875    3.640625    3.531250    3.578125   8546400\n",
       "13      3.578125    3.656250    3.578125    3.613275   6874400\n",
       "14      3.609375    3.625000    3.531250    3.609375   2626000\n",
       "15      3.578125    3.609375    3.515625    3.562500   2992000\n",
       "16      3.609375    3.625000    3.484375    3.515625   2896000\n",
       "17      3.562500    3.656250    3.562500    3.593750   4662400\n",
       "18      3.578125    3.687500    3.562500    3.656250   4558800\n",
       "19      3.593750    3.656250    3.531250    3.562500   3815200\n",
       "20      3.578125    3.781250    3.468750    3.765625   4635600\n",
       "21      3.781250    4.125000    3.750000    3.828125   5321200\n",
       "22      3.765625    3.765625    3.640625    3.703125   4085200\n",
       "23      3.687500    3.750000    3.625000    3.750000   3539200\n",
       "24      3.750000    3.750000    3.609375    3.687500   4310000\n",
       "25      3.656250    3.687500    3.609375    3.640625   2684400\n",
       "26      3.546875    3.640625    3.515625    3.562500   4164400\n",
       "27      3.593750    3.687500    3.562500    3.687500   3610400\n",
       "28      3.718750    3.843750    3.718750    3.781250   1710800\n",
       "29      3.843750    3.906250    3.796875    3.812500   1435600\n",
       "...          ...         ...         ...         ...       ...\n",
       "4362  115.949997  116.190002  113.360001  115.510002   2185100\n",
       "4363  115.779999  115.870003  114.080002  115.180000   1467900\n",
       "4364  115.870003  116.220001  115.110001  115.269997   1297200\n",
       "4365  115.260002  115.480003  112.870003  114.239998   1249500\n",
       "4366  114.250000  116.800003  113.760002  116.449997   1469600\n",
       "4367  116.820000  117.000000  115.500000  116.190002    962800\n",
       "4368  116.199997  116.739998  115.879997  116.480003    723200\n",
       "4369  116.480003  117.290001  115.800003  116.160004    976900\n",
       "4370  115.750000  116.500000  115.230003  116.260002    980400\n",
       "4371  115.739998  115.919998  113.570000  114.129997    982100\n",
       "4372  113.949997  115.660004  113.540001  114.500000    673800\n",
       "4373  115.040001  115.940002  114.959999  115.639999   1294500\n",
       "4374  115.779999  115.779999  114.690002  114.830002    898400\n",
       "4375  115.220001  115.930000  115.000000  115.570000    943600\n",
       "4376  115.489998  115.790001  113.360001  113.570000    981500\n",
       "4377  113.370003  113.610001  112.339996  113.110001   1134600\n",
       "4378  113.150002  114.989998  112.550003  114.220001   1089000\n",
       "4379  114.050003  115.089996  113.800003  114.220001   1433200\n",
       "4380  114.000000  114.000000  112.470001  112.709999   2074000\n",
       "4381  112.769997  113.459999  112.070000  112.750000   1269400\n",
       "4382  112.949997  113.400002  111.720001  111.760002   1206400\n",
       "4383  112.559998  113.449997  112.470001  113.110001   1050200\n",
       "4384  112.320000  113.250000  111.739998  111.830002   1366000\n",
       "4385  112.019997  112.989998  111.529999  112.690002    929200\n",
       "4386  112.820000  113.790001  112.440002  113.660004   1091400\n",
       "4387  113.790001  114.099998  112.790001  113.309998    950000\n",
       "4388  112.519997  113.529999  111.160004  111.870003   1805200\n",
       "4389  112.029999  112.489998  110.250000  112.230003   2136700\n",
       "4390  112.459999  112.900002  112.000000  112.339996   1251600\n",
       "4391  112.300003  114.790001  112.010002  113.190002   1611700\n",
       "\n",
       "[4392 rows x 5 columns]"
      ]
     },
     "execution_count": 141,
     "metadata": {},
     "output_type": "execute_result"
    }
   ],
   "source": [
    "LSTM_df"
   ]
  },
  {
   "cell_type": "code",
   "execution_count": 142,
   "metadata": {},
   "outputs": [],
   "source": [
    "scaler = MinMaxScaler(feature_range=(0,1))\n",
    "LSTM_df = scaler.fit_transform(LSTM_df)"
   ]
  },
  {
   "cell_type": "code",
   "execution_count": 143,
   "metadata": {},
   "outputs": [
    {
     "name": "stdout",
     "output_type": "stream",
     "text": [
      "3074\n",
      "1318\n"
     ]
    }
   ],
   "source": [
    "#x 70-30\n",
    "percent_70 = int(len(LSTM_df)* 0.70)\n",
    "print(percent_70)\n",
    "percent_30 = len(LSTM_df) - percent_70\n",
    "print(percent_30)"
   ]
  },
  {
   "cell_type": "code",
   "execution_count": 144,
   "metadata": {},
   "outputs": [
    {
     "name": "stdout",
     "output_type": "stream",
     "text": [
      "[[0.00437775 0.00646865 0.00693437 0.00740835 0.075401  ]\n",
      " [0.00703093 0.00620462 0.00853461 0.0064823  0.01919424]\n",
      " [0.00596966 0.00541254 0.00813455 0.00635001 0.00533943]\n",
      " ...\n",
      " [0.34731738 0.35133992 0.34411539 0.34501735 0.06098801]\n",
      " [0.34600138 0.35531089 0.34791329 0.35691304 0.04590435]\n",
      " [0.35606226 0.36126734 0.35841085 0.35577004 0.05274954]]\n",
      "4392\n"
     ]
    }
   ],
   "source": [
    "print(LSTM_df[0:percent_70])\n",
    "print(len(LSTM_df))"
   ]
  },
  {
   "cell_type": "code",
   "execution_count": 151,
   "metadata": {},
   "outputs": [
    {
     "name": "stdout",
     "output_type": "stream",
     "text": [
      "[[0.00437775 0.00646865 0.00693437 0.00740835 0.075401  ]\n",
      " [0.00703093 0.00620462 0.00853461 0.0064823  0.01919424]\n",
      " [0.00596966 0.00541254 0.00813455 0.00635001 0.00533943]\n",
      " ...\n",
      " [0.34731738 0.35133992 0.34411539 0.34501735 0.06098801]\n",
      " [0.34600138 0.35531089 0.34791329 0.35691304 0.04590435]\n",
      " [0.35606226 0.36126734 0.35841085 0.35577004 0.05274954]]\n",
      "[[0.35920361 0.38957096 0.36361697 0.38260942 0.17524047]\n",
      " [0.38556562 0.38348778 0.38627634 0.38531875 0.05610724]\n",
      " [0.38374023 0.39692144 0.38785526 0.39861148 0.06555292]\n",
      " ...\n",
      " [0.92316384 0.92176368 0.91533671 0.9226992  0.04210747]\n",
      " [0.92681462 0.92522774 0.93027227 0.92363047 0.02295866]\n",
      " [0.92545622 0.94119605 0.93035763 0.9308272  0.03074929]]\n",
      "[ 4.125     4.015625  4.       ... 44.       45.404999 45.27    ]\n",
      "[ 48.439999  48.759998  50.330002 ... 112.230003 112.339996 113.190002]\n"
     ]
    }
   ],
   "source": [
    "train = LSTM_df[0:percent_70]\n",
    "test = LSTM_df[percent_70:len(LSTM_df)]\n",
    "#print(type(train))\n",
    "#train = train.values\n",
    "#test = test.values\n",
    "print(train)\n",
    "print(test)\n",
    "\n",
    "close_train = close_df[0:percent_70].values\n",
    "close_test = close_df[percent_70:len(close_df)].values\n",
    "print(close_train)\n",
    "print(close_test)"
   ]
  },
  {
   "cell_type": "code",
   "execution_count": 152,
   "metadata": {},
   "outputs": [
    {
     "name": "stdout",
     "output_type": "stream",
     "text": [
      "3074\n",
      "1318\n",
      "<class 'numpy.ndarray'>\n"
     ]
    }
   ],
   "source": [
    "print(len(train))\n",
    "print(len(test))\n",
    "print(type(x_train))"
   ]
  },
  {
   "cell_type": "code",
   "execution_count": 153,
   "metadata": {
    "scrolled": true
   },
   "outputs": [
    {
     "name": "stdout",
     "output_type": "stream",
     "text": [
      "Shape of x_train: (3066, 7, 1, 5)\n",
      "Shape of x_test: (1310, 7, 1, 5)\n",
      "Shape of y_train: (3066,)\n",
      "Shape of y_test: (1310,)\n"
     ]
    }
   ],
   "source": [
    "SEQUENCE_SIZE = 7\n",
    "\n",
    "#print(x_train[0:2])\n",
    "\n",
    "#print(\"Shape of x_train: {}\".format(x_train.shape))\n",
    "x_train,y_train = to_sequences(SEQUENCE_SIZE,train,close_train)\n",
    "x_test,y_test = to_sequences(SEQUENCE_SIZE,test,close_test)\n",
    "\n",
    "print(\"Shape of x_train: {}\".format(x_train.shape))\n",
    "print(\"Shape of x_test: {}\".format(x_test.shape))\n",
    "print(\"Shape of y_train: {}\".format(y_train.shape))\n",
    "print(\"Shape of y_test: {}\".format(y_test.shape))"
   ]
  },
  {
   "cell_type": "code",
   "execution_count": 154,
   "metadata": {},
   "outputs": [
    {
     "data": {
      "text/plain": [
       "5"
      ]
     },
     "execution_count": 154,
     "metadata": {},
     "output_type": "execute_result"
    }
   ],
   "source": [
    "x_train.shape[3]"
   ]
  },
  {
   "cell_type": "code",
   "execution_count": 155,
   "metadata": {},
   "outputs": [],
   "source": [
    "x_train = np.reshape(x_train,(x_train.shape[0],x_train.shape[1],x_train.shape[3]))\n",
    "x_test = np.reshape(x_test,(x_test.shape[0],x_test.shape[1],x_test.shape[3]))"
   ]
  },
  {
   "cell_type": "code",
   "execution_count": 156,
   "metadata": {},
   "outputs": [
    {
     "name": "stdout",
     "output_type": "stream",
     "text": [
      "(3066, 7, 5)\n"
     ]
    }
   ],
   "source": [
    "print(x_train.shape)"
   ]
  },
  {
   "cell_type": "code",
   "execution_count": 157,
   "metadata": {},
   "outputs": [
    {
     "name": "stdout",
     "output_type": "stream",
     "text": [
      "[[[0.00437775 0.00646865 0.00693437 0.00740835 0.075401  ]\n",
      "  [0.00703093 0.00620462 0.00853461 0.0064823  0.01919424]\n",
      "  [0.00596966 0.00541254 0.00813455 0.00635001 0.00533943]\n",
      "  [0.00596966 0.00514851 0.00720108 0.00502709 0.03663175]\n",
      "  [0.00371445 0.00290429 0.00333383 0.00119063 0.16747797]\n",
      "  [0.00172457 0.00264026 0.00373389 0.0015875  0.24439339]\n",
      "  [0.00198989 0.00158416 0.00080012 0.00211667 0.28009052]]]\n"
     ]
    }
   ],
   "source": [
    "print(x_train[:1])"
   ]
  },
  {
   "cell_type": "code",
   "execution_count": 161,
   "metadata": {},
   "outputs": [
    {
     "name": "stdout",
     "output_type": "stream",
     "text": [
      "Build model...\n",
      "_________________________________________________________________\n",
      "Layer (type)                 Output Shape              Param #   \n",
      "=================================================================\n",
      "lstm_5 (LSTM)                (None, 64)                17920     \n",
      "=================================================================\n",
      "Total params: 17,920\n",
      "Trainable params: 17,920\n",
      "Non-trainable params: 0\n",
      "_________________________________________________________________\n",
      "_________________________________________________________________\n",
      "Layer (type)                 Output Shape              Param #   \n",
      "=================================================================\n",
      "lstm_5 (LSTM)                (None, 64)                17920     \n",
      "_________________________________________________________________\n",
      "dense_9 (Dense)              (None, 32)                2080      \n",
      "_________________________________________________________________\n",
      "dense_10 (Dense)             (None, 1)                 33        \n",
      "=================================================================\n",
      "Total params: 20,033\n",
      "Trainable params: 20,033\n",
      "Non-trainable params: 0\n",
      "_________________________________________________________________\n",
      "_________________________________________________________________\n",
      "Layer (type)                 Output Shape              Param #   \n",
      "=================================================================\n",
      "lstm_5 (LSTM)                (None, 64)                17920     \n",
      "_________________________________________________________________\n",
      "dense_9 (Dense)              (None, 32)                2080      \n",
      "_________________________________________________________________\n",
      "dense_10 (Dense)             (None, 1)                 33        \n",
      "=================================================================\n",
      "Total params: 20,033\n",
      "Trainable params: 20,033\n",
      "Non-trainable params: 0\n",
      "_________________________________________________________________\n",
      "Train...\n",
      "_________________________________________________________________\n",
      "Layer (type)                 Output Shape              Param #   \n",
      "=================================================================\n",
      "lstm_5 (LSTM)                (None, 64)                17920     \n",
      "_________________________________________________________________\n",
      "dense_9 (Dense)              (None, 32)                2080      \n",
      "_________________________________________________________________\n",
      "dense_10 (Dense)             (None, 1)                 33        \n",
      "=================================================================\n",
      "Total params: 20,033\n",
      "Trainable params: 20,033\n",
      "Non-trainable params: 0\n",
      "_________________________________________________________________\n"
     ]
    }
   ],
   "source": [
    "from keras.preprocessing import sequence\n",
    "from keras.models import Sequential\n",
    "from keras.layers import Dense, Embedding\n",
    "from keras.layers import LSTM\n",
    "from keras.datasets import imdb\n",
    "from keras.callbacks import EarlyStopping\n",
    "import numpy as np\n",
    "\n",
    "print('Build model...')\n",
    "model = Sequential()\n",
    "\n",
    "model.add(LSTM(64, dropout=0.1, recurrent_dropout=0.1, input_shape=(7, 5),activation=\"relu\"))\n",
    "model.summary()\n",
    "model.add(Dense(32,activation=\"relu\"))\n",
    "model.add(Dense(1,activation=\"relu\"))\n",
    "model.summary()\n",
    "model.compile(loss='mean_squared_error', optimizer='adam')\n",
    "model.summary()\n",
    "\n",
    "monitor = EarlyStopping(monitor='val_loss', min_delta=1e-3, patience=5, verbose=1, mode='auto')\n",
    "print('Train...')\n",
    "model.summary()"
   ]
  },
  {
   "cell_type": "code",
   "execution_count": 162,
   "metadata": {
    "scrolled": true
   },
   "outputs": [
    {
     "name": "stdout",
     "output_type": "stream",
     "text": [
      "Train on 3066 samples, validate on 1310 samples\n",
      "Epoch 1/10\n",
      " - 6s - loss: 173.8400 - val_loss: 3608.1558\n",
      "Epoch 2/10\n",
      " - 3s - loss: 20.4411 - val_loss: 855.5004\n",
      "Epoch 3/10\n",
      " - 3s - loss: 11.2566 - val_loss: 14.1751\n",
      "Epoch 4/10\n",
      " - 3s - loss: 7.6974 - val_loss: 112.5934\n",
      "Epoch 5/10\n",
      " - 3s - loss: 5.1012 - val_loss: 298.0958\n",
      "Epoch 6/10\n",
      " - 3s - loss: 4.1164 - val_loss: 257.9910\n",
      "Epoch 7/10\n",
      " - 3s - loss: 3.3332 - val_loss: 234.5972\n",
      "Epoch 8/10\n",
      " - 3s - loss: 3.5284 - val_loss: 352.5334\n",
      "Epoch 00008: early stopping\n"
     ]
    },
    {
     "data": {
      "text/plain": [
       "<keras.callbacks.History at 0x1a372e3ef0>"
      ]
     },
     "execution_count": 162,
     "metadata": {},
     "output_type": "execute_result"
    }
   ],
   "source": [
    "model.fit(x_train,y_train,validation_data=(x_test,y_test),callbacks=[monitor],verbose=2, epochs=10)  "
   ]
  },
  {
   "cell_type": "code",
   "execution_count": 163,
   "metadata": {},
   "outputs": [
    {
     "name": "stdout",
     "output_type": "stream",
     "text": [
      "Score (RMSE): 18.775872646452886\n"
     ]
    }
   ],
   "source": [
    "from sklearn import metrics\n",
    "\n",
    "pred = model.predict(x_test)\n",
    "score = np.sqrt(metrics.mean_squared_error(pred,y_test))\n",
    "print(\"Score (RMSE): {}\".format(score))"
   ]
  },
  {
   "cell_type": "code",
   "execution_count": 164,
   "metadata": {},
   "outputs": [
    {
     "data": {
      "image/png": "[encoded data removed]",
      "text/plain": [
       "<Figure size 432x288 with 1 Axes>"
      ]
     },
     "metadata": {},
     "output_type": "display_data"
    }
   ],
   "source": [
    "chart_regression(pred.flatten(),y_test,sort=True)"
   ]
  },
  {
   "cell_type": "code",
   "execution_count": 165,
   "metadata": {},
   "outputs": [
    {
     "data": {
      "text/plain": [
       "(3066, 7, 5)"
      ]
     },
     "execution_count": 165,
     "metadata": {},
     "output_type": "execute_result"
    }
   ],
   "source": [
    "x_train.shape"
   ]
  },
  {
   "cell_type": "code",
   "execution_count": 166,
   "metadata": {},
   "outputs": [
    {
     "name": "stdout",
     "output_type": "stream",
     "text": [
      "(3066, 1, 7, 5)\n",
      "(3066,)\n"
     ]
    }
   ],
   "source": [
    "x_train2 = x_train.reshape((3066,1,7,5))\n",
    "\n",
    "#print(x_train2[:2])\n",
    "print(x_train2.shape)\n",
    "print(y_train.shape)"
   ]
  },
  {
   "cell_type": "markdown",
   "metadata": {},
   "source": [
    "# CNN Model"
   ]
  },
  {
   "cell_type": "code",
   "execution_count": 167,
   "metadata": {},
   "outputs": [
    {
     "name": "stdout",
     "output_type": "stream",
     "text": [
      "_________________________________________________________________\n",
      "Layer (type)                 Output Shape              Param #   \n",
      "=================================================================\n",
      "conv2d_1 (Conv2D)            (None, 1, 5, 64)          1024      \n",
      "_________________________________________________________________\n",
      "max_pooling2d_1 (MaxPooling2 (None, 1, 2, 64)          0         \n",
      "_________________________________________________________________\n",
      "flatten_1 (Flatten)          (None, 128)               0         \n",
      "_________________________________________________________________\n",
      "dense_11 (Dense)             (None, 30)                3870      \n",
      "=================================================================\n",
      "Total params: 4,894\n",
      "Trainable params: 4,894\n",
      "Non-trainable params: 0\n",
      "_________________________________________________________________\n",
      "_________________________________________________________________\n",
      "Layer (type)                 Output Shape              Param #   \n",
      "=================================================================\n",
      "conv2d_1 (Conv2D)            (None, 1, 5, 64)          1024      \n",
      "_________________________________________________________________\n",
      "max_pooling2d_1 (MaxPooling2 (None, 1, 2, 64)          0         \n",
      "_________________________________________________________________\n",
      "flatten_1 (Flatten)          (None, 128)               0         \n",
      "_________________________________________________________________\n",
      "dense_11 (Dense)             (None, 30)                3870      \n",
      "_________________________________________________________________\n",
      "dense_12 (Dense)             (None, 1)                 31        \n",
      "=================================================================\n",
      "Total params: 4,925\n",
      "Trainable params: 4,925\n",
      "Non-trainable params: 0\n",
      "_________________________________________________________________\n"
     ]
    }
   ],
   "source": [
    "# define a CNN\n",
    "\n",
    "cnn = Sequential()\n",
    "cnn.add(Conv2D(64, kernel_size=(1, 3), strides=(1, 1),padding='valid',\n",
    "                 activation='relu',\n",
    "                 input_shape=(1,7,5)))\n",
    "\n",
    "cnn.add(MaxPooling2D(pool_size=(1,2)))\n",
    "  \n",
    "    \n",
    "cnn.add(Flatten())\n",
    "cnn.add(Dense(30, activation=\"relu\"))\n",
    "\n",
    "cnn.summary()   \n",
    "cnn.add(Dense(1, activation=\"relu\"))\n",
    "cnn.summary()\n",
    "    \n",
    "# define optimizer and objective, compile cnn\n",
    "cnn.compile(loss='mean_squared_error', optimizer='rmsprop')\n",
    "monitor = EarlyStopping(monitor='val_loss', min_delta=1e-3, patience=2, verbose=2, mode='auto') \n",
    "checkpointer = ModelCheckpoint(filepath=\"best_weights_cnn.hdf5\", verbose=0, save_best_only=True) # save best model"
   ]
  },
  {
   "cell_type": "code",
   "execution_count": 168,
   "metadata": {},
   "outputs": [
    {
     "name": "stdout",
     "output_type": "stream",
     "text": [
      "Train on 2452 samples, validate on 614 samples\n",
      "Epoch 1/10\n",
      " - 2s - loss: 72.1404 - val_loss: 461.4025\n",
      "Epoch 2/10\n",
      " - 0s - loss: 5.8593 - val_loss: 55.4553\n",
      "Epoch 3/10\n",
      " - 0s - loss: 0.5153 - val_loss: 3.9175\n",
      "Epoch 4/10\n",
      " - 0s - loss: 0.1477 - val_loss: 2.5900\n",
      "Epoch 5/10\n",
      " - 0s - loss: 0.1301 - val_loss: 2.7317\n",
      "Epoch 6/10\n",
      " - 0s - loss: 0.1281 - val_loss: 2.8764\n",
      "Epoch 00006: early stopping\n"
     ]
    },
    {
     "data": {
      "text/plain": [
       "<keras.callbacks.History at 0x1a38f60630>"
      ]
     },
     "execution_count": 168,
     "metadata": {},
     "output_type": "execute_result"
    }
   ],
   "source": [
    "cnn.fit(x_train2,y_train,validation_split=0.2,callbacks=[monitor,checkpointer],verbose=2,epochs=10)"
   ]
  },
  {
   "cell_type": "code",
   "execution_count": 169,
   "metadata": {},
   "outputs": [],
   "source": [
    "cnn.load_weights('best_weights_cnn.hdf5') # load weights from best model"
   ]
  },
  {
   "cell_type": "code",
   "execution_count": 170,
   "metadata": {},
   "outputs": [
    {
     "name": "stdout",
     "output_type": "stream",
     "text": [
      "(1310, 1, 7, 5)\n"
     ]
    }
   ],
   "source": [
    "x_test = x_test.reshape((-1,1,7,5))\n",
    "print(x_test.shape)"
   ]
  },
  {
   "cell_type": "code",
   "execution_count": 171,
   "metadata": {},
   "outputs": [
    {
     "name": "stdout",
     "output_type": "stream",
     "text": [
      "Shape: (1310, 1)\n",
      "[49.114033]\n"
     ]
    }
   ],
   "source": [
    "pred = cnn.predict(x_test)\n",
    "#pred = np.argmax(pred,axis=1)\n",
    "print(\"Shape: {}\".format(pred.shape))\n",
    "print(pred[0])"
   ]
  },
  {
   "cell_type": "code",
   "execution_count": 172,
   "metadata": {},
   "outputs": [
    {
     "name": "stdout",
     "output_type": "stream",
     "text": [
      "(1310, 1)\n"
     ]
    }
   ],
   "source": [
    "pred=pred.reshape((-1,1))\n",
    "print(pred.shape)"
   ]
  },
  {
   "cell_type": "code",
   "execution_count": 173,
   "metadata": {},
   "outputs": [
    {
     "name": "stdout",
     "output_type": "stream",
     "text": [
      "Final score (RMSE): 3.777422676940112\n"
     ]
    }
   ],
   "source": [
    "# Measure RMSE error.  RMSE is common for regression.\n",
    "score = np.sqrt(metrics.mean_squared_error(y_test,pred))\n",
    "print(\"Final score (RMSE): {}\".format(score))"
   ]
  },
  {
   "cell_type": "code",
   "execution_count": 174,
   "metadata": {},
   "outputs": [
    {
     "data": {
      "image/png": "[encoded data removed]",
      "text/plain": [
       "<Figure size 432x288 with 1 Axes>"
      ]
     },
     "metadata": {},
     "output_type": "display_data"
    }
   ],
   "source": [
    "chart_regression(pred.flatten(),y_test,sort=True)"
   ]
  },
  {
   "cell_type": "code",
   "execution_count": null,
   "metadata": {},
   "outputs": [],
   "source": []
  }
 ],
 "metadata": {
  "kernelspec": {
   "display_name": "Python 3",
   "language": "python",
   "name": "python3"
  },
  "language_info": {
   "codemirror_mode": {
    "name": "ipython",
    "version": 3
   },
   "file_extension": ".py",
   "mimetype": "text/x-python",
   "name": "python",
   "nbconvert_exporter": "python",
   "pygments_lexer": "ipython3",
   "version": "3.6.5"
  }
 },
 "nbformat": 4,
 "nbformat_minor": 2
}
